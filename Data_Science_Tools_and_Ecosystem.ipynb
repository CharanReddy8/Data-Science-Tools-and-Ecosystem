{
  "nbformat": 4,
  "nbformat_minor": 0,
  "metadata": {
    "colab": {
      "provenance": []
    },
    "kernelspec": {
      "name": "python3",
      "display_name": "Python 3"
    },
    "language_info": {
      "name": "python"
    }
  },
  "cells": [
    {
      "cell_type": "markdown",
      "source": [
        "# Data Science Tools and Ecosystem"
      ],
      "metadata": {
        "id": "wzgO7KoKaWry"
      }
    },
    {
      "cell_type": "markdown",
      "source": [
        "## Introduction\n",
        "This notebook provides an overview of various tools and libraries used in data science. It also includes examples of basic arithmetic operations in Python.\n"
      ],
      "metadata": {
        "id": "c5IQjQjiaeI9"
      }
    },
    {
      "cell_type": "markdown",
      "source": [
        "## Data Science Languages\n",
        "Some of the popular languages that data scientists use are:\n",
        "- Python\n",
        "- R\n",
        "- SQL\n",
        "- Julia\n",
        "- Scala\n"
      ],
      "metadata": {
        "id": "Aaj9M9pEaiVe"
      }
    },
    {
      "cell_type": "markdown",
      "source": [
        "## Data Science Libraries\n",
        "Some of the commonly used libraries for data science include:\n",
        "- Pandas\n",
        "- NumPy\n",
        "- Matplotlib\n",
        "- Scikit-learn\n",
        "- TensorFlow\n"
      ],
      "metadata": {
        "id": "vKYtksKEaeDp"
      }
    },
    {
      "cell_type": "markdown",
      "source": [
        "## Arithmetic Expressions\n",
        "Below are examples of basic arithmetic operations in Python.\n",
        "\n"
      ],
      "metadata": {
        "id": "A6edYVJ2ap1w"
      }
    },
    {
      "cell_type": "code",
      "source": [
        "# Multiplying and adding numbers\n",
        "a = 5\n",
        "b = 4\n",
        "m = a * b\n",
        "a += b\n",
        "s = a - b\n",
        "\n",
        "print(f\"multiplication: {m}, addition: {a}, subtraction: {s}\")\n",
        "\n"
      ],
      "metadata": {
        "colab": {
          "base_uri": "https://localhost:8080/"
        },
        "id": "nRxzlWzQauaL",
        "outputId": "275d9a24-111f-49cd-f071-ac04e0ac065e"
      },
      "execution_count": 4,
      "outputs": [
        {
          "output_type": "stream",
          "name": "stdout",
          "text": [
            "multiplication: 20, addition: 9, subtraction: 5\n"
          ]
        }
      ]
    },
    {
      "cell_type": "code",
      "source": [
        "# Converting minutes to hours\n",
        "minutes = 120\n",
        "hours = minutes / 60\n",
        "hours\n"
      ],
      "metadata": {
        "colab": {
          "base_uri": "https://localhost:8080/"
        },
        "id": "hwOlCvSXa0eh",
        "outputId": "264015ec-24db-4573-c8a8-36b40437e29e"
      },
      "execution_count": 5,
      "outputs": [
        {
          "output_type": "execute_result",
          "data": {
            "text/plain": [
              "2.0"
            ]
          },
          "metadata": {},
          "execution_count": 5
        }
      ]
    },
    {
      "cell_type": "markdown",
      "source": [
        "## Objectives\n",
        "- List popular languages for Data Science\n",
        "- List commonly used libraries in Data Science\n",
        "- Showcase examples of basic arithmetic operations in Python\n",
        "- Convert time units from minutes to hours\n"
      ],
      "metadata": {
        "id": "3I4NrWtEapgB"
      }
    },
    {
      "cell_type": "markdown",
      "source": [
        "## Author\n",
        "Venkata Siva Sai Charan Reddy Vundela\n"
      ],
      "metadata": {
        "id": "LDuEhSYYapX4"
      }
    }
  ]
}